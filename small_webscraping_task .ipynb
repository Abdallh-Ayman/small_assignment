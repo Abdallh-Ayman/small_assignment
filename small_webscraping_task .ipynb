{
 "cells": [
  {
   "cell_type": "markdown",
   "id": "006b8982",
   "metadata": {},
   "source": [
    "#### what you should install.\n",
    "pip install selenium  \n",
    "pip install tabulate  \n",
    "chrome driver [link text](https://chromedriver.chromium.org/downloads)"
   ]
  },
  {
   "cell_type": "code",
   "execution_count": 25,
   "id": "ca933a3d",
   "metadata": {
    "scrolled": true
   },
   "outputs": [
    {
     "name": "stdout",
     "output_type": "stream",
     "text": [
      "Enter the row number(must be integer number|the maximun namber is 8): 8\n"
     ]
    },
    {
     "name": "stderr",
     "output_type": "stream",
     "text": [
      "C:\\Users\\abdal\\AppData\\Local\\Temp\\ipykernel_39800\\3763430297.py:14: DeprecationWarning: executable_path has been deprecated, please pass in a Service object\n",
      "  driver = webdriver.Chrome(executable_path = path,options=chrome_options)\n"
     ]
    },
    {
     "name": "stdout",
     "output_type": "stream",
     "text": [
      "╒══════════════╤════════════════════════════════╤════════════════════════════════╤══════════════════════════════╕\n",
      "│   Row Number │ Est Value                      │ Description                    │ Closing Date                 │\n",
      "╞══════════════╪════════════════════════════════╪════════════════════════════════╪══════════════════════════════╡\n",
      "│            1 │ $1,000,000.00 to $2,500,000.00 │ reconstructing 3000 E at       │ Tue, 06/06/2023 02:00 PM MDT │\n",
      "│              │                                │ Foothill Road and adding a     │                              │\n",
      "│              │                                │ deceleration lane at E 2800 N  │                              │\n",
      "├──────────────┼────────────────────────────────┼────────────────────────────────┼──────────────────────────────┤\n",
      "│            2 │ $500,000.00 to $1,000,000.00   │ constructing a signal on       │ Tue, 06/06/2023 02:00 PM MDT │\n",
      "│              │                                │ SH-75, MP 121                  │                              │\n",
      "├──────────────┼────────────────────────────────┼────────────────────────────────┼──────────────────────────────┤\n",
      "│            3 │ $500,000 to $1,000,000         │ Reapplying water borne         │ Tue, 06/06/2023 02:00 PM MDT │\n",
      "│              │                                │ pavement markings to various   │                              │\n",
      "│              │                                │ highway routes                 │                              │\n",
      "├──────────────┼────────────────────────────────┼────────────────────────────────┼──────────────────────────────┤\n",
      "│            4 │ $500,000 to $1,000,000         │ pavement striping on I-84 from │ Tue, 06/06/2023 02:00 PM MDT │\n",
      "│              │                                │ MP 121.094 to MP 275.650, EBL  │                              │\n",
      "│              │                                │ & WBL; I-86 from MP 0.00 to MP │                              │\n",
      "│              │                                │ 14.82, EBL & WBL; US-30 from   │                              │\n",
      "│              │                                │ MP 211.00 to MP 222.56; SH-74  │                              │\n",
      "│              │                                │ from MP 0.00 to MP 7.67; US 93 │                              │\n",
      "│              │                                │ from MP 31.00 to MP 50.036;    │                              │\n",
      "│              │                                │ Bliss & Juniper Rest Areas,    │                              │\n",
      "│              │                                │ Cottrell Port Entry & Rest     │                              │\n",
      "│              │                                │ Area, Junction US 30/93, and   │                              │\n",
      "│              │                                │ the Flyover located at US-93   │                              │\n",
      "├──────────────┼────────────────────────────────┼────────────────────────────────┼──────────────────────────────┤\n",
      "│            5 │ $1,000,000.00 to $2,500,000.00 │ chip seal and fog coat of SH-3 │ Tue, 06/06/2023 02:00 PM MDT │\n",
      "│              │                                │ from MP 111.38 to MP 117.68    │                              │\n",
      "│              │                                │ and SH-54 from MP 8.162 to     │                              │\n",
      "│              │                                │ 11.80 and SH-97 from MP 69.07  │                              │\n",
      "│              │                                │ to MP 81.50                    │                              │\n",
      "├──────────────┼────────────────────────────────┼────────────────────────────────┼──────────────────────────────┤\n",
      "│            6 │ Greater than 25 Million        │ constructing an interchange to │ Tue, 06/13/2023 02:00 PM MDT │\n",
      "│              │                                │ include an overpass and on and │                              │\n",
      "│              │                                │ off ramps on east and          │                              │\n",
      "│              │                                │ westbound US-20, MP 343.13 to  │                              │\n",
      "│              │                                │ MP 344.17; US-20 Exit 343      │                              │\n",
      "│              │                                │ Interchange                    │                              │\n",
      "├──────────────┼────────────────────────────────┼────────────────────────────────┼──────────────────────────────┤\n",
      "│            7 │ $250,000 to $500,000           │ Please contact the Resident    │ Tue, 06/13/2023 02:00 PM MDT │\n",
      "│              │                                │ Engineer ***RYAN HAWKINS       │                              │\n",
      "│              │                                │ P.E.*** AT (208) 772-1223 or   │                              │\n",
      "│              │                                │ ryan.hawkins@itd.idaho.gov for │                              │\n",
      "│              │                                │ any design related questions.  │                              │\n",
      "├──────────────┼────────────────────────────────┼────────────────────────────────┼──────────────────────────────┤\n",
      "│            8 │ $1,000,000.00 to $2,500,000.00 │ bridge preservation repairs on │ Tue, 06/13/2023 02:00 PM MDT │\n",
      "│              │                                │ multiple bridges in District 1 │                              │\n",
      "│              │                                │ along I-90 corridor bridges    │                              │\n",
      "╘══════════════╧════════════════════════════════╧════════════════════════════════╧══════════════════════════════╛\n"
     ]
    }
   ],
   "source": [
    "from selenium import webdriver\n",
    "from selenium.webdriver.chrome.options import Options\n",
    "from selenium.webdriver.common.by import By \n",
    "from tabulate import tabulate\n",
    "import time \n",
    "\n",
    "\n",
    "desired_rows=int(input(\"Enter the row number(must be integer number|the maximun namber is 8): \"))\n",
    "\n",
    "path= \"D:\\\\chromedriver.exe\"\n",
    "chrome_options = Options()\n",
    "chrome_options.add_argument(\"--start-maximized\")\n",
    "driver = webdriver.Chrome(executable_path = path,options=chrome_options)\n",
    "url = \"https://qcpi.questcdn.com/cdn/posting/?group=1950787&provider=1950787\"\n",
    "driver.get(url)\n",
    "time.sleep(1)\n",
    "\n",
    "def get_element_text(xpath):\n",
    "    element = driver.find_element(By.XPATH, xpath)\n",
    "    return element.text\n",
    "\n",
    "def click_element(xpath):\n",
    "    driver.find_element(By.XPATH, xpath).click()\n",
    "    time.sleep(1)\n",
    "\n",
    "table = []\n",
    "\n",
    "click_element('//*[@id=\"table_id\"]/tbody/tr[1]/td[2]/a')\n",
    "row_number = 1\n",
    "est_value = get_element_text('//*[@id=\"current_project\"]/div/div[2]/div/table/tbody/tr[3]/td[2]')\n",
    "description = get_element_text('//*[@id=\"current_project\"]/div/div[3]/div/table/tbody/tr[3]/td[2]')\n",
    "closing_date = get_element_text('//*[@id=\"current_project\"]/div/div[2]/div/table/tbody/tr[1]/td[2]')\n",
    "table.append((row_number, est_value, description, closing_date))\n",
    "time.sleep(1)\n",
    "click_element('//*[@id=\"topMain\"]/li[1]/a')\n",
    "\n",
    "for i in range(1, desired_rows):\n",
    "    element_xpath = f'//*[@id=\"{i}\"]/td[2]/a'\n",
    "    click_element(element_xpath)\n",
    "    row_number += 1\n",
    "    est_value = get_element_text('//*[@id=\"current_project\"]/div/div[2]/div/table/tbody/tr[3]/td[2]')\n",
    "    description = get_element_text('//*[@id=\"current_project\"]/div/div[3]/div/table/tbody/tr[3]/td[2]')\n",
    "    closing_date = get_element_text('//*[@id=\"current_project\"]/div/div[2]/div/table/tbody/tr[1]/td[2]')\n",
    "    table.append((row_number, est_value, description, closing_date))\n",
    "    click_element('//*[@id=\"topMain\"]/li[1]/a')\n",
    "\n",
    "driver.quit()\n",
    "\n",
    "# print scraping data in the table format\n",
    "wrapped_table = []\n",
    "headers = [\"Row Number\", \"Est Value\", \"Description\", \"Closing Date\"]\n",
    "for row in table:\n",
    "    wrapped_description = \"\\n\".join(textwrap.wrap(row[2], width=30))  # Wrap description text to 30 characters per line\n",
    "    wrapped_table.append((row[0], row[1], wrapped_description, row[3]))\n",
    "print(tabulate(wrapped_table, headers, tablefmt=\"fancy_grid\"))\n"
   ]
  },
  {
   "cell_type": "code",
   "execution_count": null,
   "id": "0829538d",
   "metadata": {},
   "outputs": [],
   "source": []
  }
 ],
 "metadata": {
  "kernelspec": {
   "display_name": "Python 3 (ipykernel)",
   "language": "python",
   "name": "python3"
  },
  "language_info": {
   "codemirror_mode": {
    "name": "ipython",
    "version": 3
   },
   "file_extension": ".py",
   "mimetype": "text/x-python",
   "name": "python",
   "nbconvert_exporter": "python",
   "pygments_lexer": "ipython3",
   "version": "3.10.6"
  }
 },
 "nbformat": 4,
 "nbformat_minor": 5
}
